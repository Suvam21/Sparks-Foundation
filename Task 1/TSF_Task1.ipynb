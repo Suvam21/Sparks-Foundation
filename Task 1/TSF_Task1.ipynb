{
  "nbformat": 4,
  "nbformat_minor": 0,
  "metadata": {
    "orig_nbformat": 4,
    "language_info": {
      "name": "python",
      "version": "3.8.5",
      "mimetype": "text/x-python",
      "codemirror_mode": {
        "name": "ipython",
        "version": 3
      },
      "pygments_lexer": "ipython3",
      "nbconvert_exporter": "python",
      "file_extension": ".py"
    },
    "kernelspec": {
      "name": "python3",
      "display_name": "Python 3.8.5 32-bit"
    },
    "interpreter": {
      "hash": "404584b3d04f359178cde1992b595ad074a71690d58f753f9f15d5adbd90c3f7"
    },
    "colab": {
      "name": "TSF Task1.ipynb",
      "provenance": []
    }
  },
  "cells": [
    {
      "cell_type": "markdown",
      "metadata": {
        "id": "oD5ruuJfF34M"
      },
      "source": [
        "# **THE SPARKS FOUNDATION**\n",
        "## Author: Suvam S Behera"
      ]
    },
    {
      "cell_type": "markdown",
      "metadata": {
        "id": "w3q1yZCIF34O"
      },
      "source": [
        "## Task 1: Predicting student's score using supervised ML"
      ]
    },
    {
      "cell_type": "markdown",
      "metadata": {
        "id": "KWZgXNwoF34Q"
      },
      "source": [
        "### Importing all the important packages to our notebook"
      ]
    },
    {
      "cell_type": "code",
      "metadata": {
        "id": "qksU26kBF34R"
      },
      "source": [
        "import numpy as np\n",
        "import pandas as pd\n",
        "import seaborn as sns\n",
        "import matplotlib.pyplot as plt\n",
        "%matplotlib inline"
      ],
      "execution_count": 4,
      "outputs": []
    },
    {
      "cell_type": "markdown",
      "metadata": {
        "id": "vZblkB9cF34S"
      },
      "source": [
        "### Importing data from URL "
      ]
    },
    {
      "cell_type": "code",
      "metadata": {
        "colab": {
          "base_uri": "https://localhost:8080/"
        },
        "id": "3avEdHjsF34S",
        "outputId": "3a4e1ae0-f03c-4f4b-e5f6-edc887a6bc4b"
      },
      "source": [
        "link = \"http://bit.ly/w-data\"\n",
        "df = pd.read_csv(link)\n",
        "print(df.head(5)) "
      ],
      "execution_count": null,
      "outputs": [
        {
          "output_type": "stream",
          "text": [
            "   Hours  Scores\n",
            "0    2.5      21\n",
            "1    5.1      47\n",
            "2    3.2      27\n",
            "3    8.5      75\n",
            "4    3.5      30\n"
          ],
          "name": "stdout"
        }
      ]
    },
    {
      "cell_type": "markdown",
      "metadata": {
        "id": "d873FfqFF34U"
      },
      "source": [
        "### Plotting a graph between 'Hours Studied' and 'Marks' obtained\n",
        "\n"
      ]
    },
    {
      "cell_type": "code",
      "metadata": {
        "colab": {
          "base_uri": "https://localhost:8080/",
          "height": 312
        },
        "id": "AmoYMtnIF34V",
        "outputId": "0bdf02f0-7b02-4077-e06e-be3aef076c42"
      },
      "source": [
        "# Here we are using seaborn to construct a scatter plot...\n",
        "sns.set_style('darkgrid')\n",
        "plot = sns.scatterplot(data=df, x= 'Hours', y='Scores')\n",
        "plot.set_xlabel('Hours Studied')                    \n",
        "plot.set_ylabel('Marks Obtained')                      \n",
        "plot.set_title('Hours vs Marks')                    \n",
        "plot.plot()\n"
      ],
      "execution_count": null,
      "outputs": [
        {
          "output_type": "execute_result",
          "data": {
            "text/plain": [
              "[]"
            ]
          },
          "metadata": {},
          "execution_count": 3
        },
        {
          "output_type": "display_data",
          "data": {
            "image/png": "[encoded data removed]",
            "text/plain": [
              "<Figure size 432x288 with 1 Axes>"
            ]
          },
          "metadata": {}
        }
      ]
    },
    {
      "cell_type": "markdown",
      "metadata": {
        "id": "HY3E1DPtIx49"
      },
      "source": [
        "**From the above plot its clear that there is a positive linear reltionship between the 'Hours Studied' and 'Marks Obtained'**"
      ]
    },
    {
      "cell_type": "markdown",
      "metadata": {
        "id": "V_5prjKUJodH"
      },
      "source": [
        "## **Preparing Data**"
      ]
    },
    {
      "cell_type": "code",
      "metadata": {
        "id": "agfPsSFBF34W"
      },
      "source": [
        "x = df.iloc[:, :-1].values  \n",
        "y = df.iloc[:, 1].values  "
      ],
      "execution_count": null,
      "outputs": []
    },
    {
      "cell_type": "code",
      "metadata": {
        "id": "Ny_ni_vJF34X"
      },
      "source": [
        "from sklearn.model_selection import train_test_split\n",
        "x_train, x_test, y_train, y_test = train_test_split(x, y, test_size=0.3, random_state=0) "
      ],
      "execution_count": null,
      "outputs": []
    },
    {
      "cell_type": "markdown",
      "metadata": {
        "id": "rvkDNvA8Jai7"
      },
      "source": [
        "## <b>Training the algorithm</b>"
      ]
    },
    {
      "cell_type": "code",
      "metadata": {
        "id": "LHP0XHQaF34Y",
        "outputId": "e0c2f8cb-fc17-4d6d-a0a7-c22942e0db6f"
      },
      "source": [
        "from sklearn.linear_model import LinearRegression\n",
        "reg = LinearRegression()\n",
        "reg.fit(x_train, y_train)"
      ],
      "execution_count": null,
      "outputs": [
        {
          "output_type": "execute_result",
          "data": {
            "text/plain": [
              "LinearRegression()"
            ]
          },
          "metadata": {},
          "execution_count": 7
        }
      ]
    },
    {
      "cell_type": "code",
      "metadata": {
        "id": "ujb4nzzdF34Z",
        "outputId": "6fa7566b-12a0-4498-c36b-1cea19240d0f"
      },
      "source": [
        "# Plotting the regression line\n",
        "line = reg.coef_*x+reg.intercept_\n",
        "\n",
        "# Plotting for the test data\n",
        "plt.scatter(x, y)\n",
        "plt.plot(x, line);\n",
        "plt.show()"
      ],
      "execution_count": null,
      "outputs": [
        {
          "output_type": "display_data",
          "data": {
            "text/plain": [
              "<Figure size 432x288 with 1 Axes>"
            ],
            "image/png": "[encoded data removed]"
          },
          "metadata": {}
        }
      ]
    },
    {
      "cell_type": "markdown",
      "metadata": {
        "id": "oVKc2iljF34a"
      },
      "source": [
        "**Optional Method**"
      ]
    },
    {
      "cell_type": "code",
      "metadata": {
        "id": "gz8xyv6cF34a",
        "outputId": "7692c633-334b-4d1e-9612-c24082e8bc2a"
      },
      "source": [
        "# Ploting a regression plot using seaborn to produce the above results\n",
        "sns.regplot(data=df, x='Hours', y='Scores')\n",
        "plt.show()"
      ],
      "execution_count": null,
      "outputs": [
        {
          "output_type": "display_data",
          "data": {
            "text/plain": [
              "<Figure size 432x288 with 1 Axes>"
            ],
            "image/png": "[encoded data removed]"
          },
          "metadata": {}
        }
      ]
    },
    {
      "cell_type": "markdown",
      "metadata": {
        "id": "Zpy_auJFF34b"
      },
      "source": [
        "### **Making Predictions**"
      ]
    },
    {
      "cell_type": "code",
      "metadata": {
        "id": "91RM2h4-F34c",
        "outputId": "4c3831eb-29b8-43ea-a7bd-8803f8e5299d"
      },
      "source": [
        "#Predicitng the scores\n",
        "y_pred = reg.predict(x_test)\n",
        "pred_df = pd.DataFrame({'Actual': y_test, 'Prediction': y_pred})\n",
        "pred_df"
      ],
      "execution_count": null,
      "outputs": [
        {
          "output_type": "execute_result",
          "data": {
            "text/plain": [
              "   Actual  Prediction\n",
              "0      20   17.053665\n",
              "1      27   33.694229\n",
              "2      69   74.806209\n",
              "3      30   26.842232\n",
              "4      62   60.123359\n",
              "5      35   39.567369\n",
              "6      24   20.969092\n",
              "7      86   78.721636"
            ],
            "text/html": [
              "<div>\n",
              "<style scoped>\n",
              "    .dataframe tbody tr th:only-of-type {\n",
              "        vertical-align: middle;\n",
              "    }\n",
              "\n",
              "    .dataframe tbody tr th {\n",
              "        vertical-align: top;\n",
              "    }\n",
              "\n",
              "    .dataframe thead th {\n",
              "        text-align: right;\n",
              "    }\n",
              "</style>\n",
              "<table border=\"1\" class=\"dataframe\">\n",
              "  <thead>\n",
              "    <tr style=\"text-align: right;\">\n",
              "      <th></th>\n",
              "      <th>Actual</th>\n",
              "      <th>Prediction</th>\n",
              "    </tr>\n",
              "  </thead>\n",
              "  <tbody>\n",
              "    <tr>\n",
              "      <th>0</th>\n",
              "      <td>20</td>\n",
              "      <td>17.053665</td>\n",
              "    </tr>\n",
              "    <tr>\n",
              "      <th>1</th>\n",
              "      <td>27</td>\n",
              "      <td>33.694229</td>\n",
              "    </tr>\n",
              "    <tr>\n",
              "      <th>2</th>\n",
              "      <td>69</td>\n",
              "      <td>74.806209</td>\n",
              "    </tr>\n",
              "    <tr>\n",
              "      <th>3</th>\n",
              "      <td>30</td>\n",
              "      <td>26.842232</td>\n",
              "    </tr>\n",
              "    <tr>\n",
              "      <th>4</th>\n",
              "      <td>62</td>\n",
              "      <td>60.123359</td>\n",
              "    </tr>\n",
              "    <tr>\n",
              "      <th>5</th>\n",
              "      <td>35</td>\n",
              "      <td>39.567369</td>\n",
              "    </tr>\n",
              "    <tr>\n",
              "      <th>6</th>\n",
              "      <td>24</td>\n",
              "      <td>20.969092</td>\n",
              "    </tr>\n",
              "    <tr>\n",
              "      <th>7</th>\n",
              "      <td>86</td>\n",
              "      <td>78.721636</td>\n",
              "    </tr>\n",
              "  </tbody>\n",
              "</table>\n",
              "</div>"
            ]
          },
          "metadata": {},
          "execution_count": 10
        }
      ]
    },
    {
      "cell_type": "markdown",
      "metadata": {
        "id": "Rz9NY2ooF34d"
      },
      "source": [
        "### **Predicting scores using our own model**\n",
        "WIth the help of this model we can predict the score of a student with the given number of hours one studies in a day...."
      ]
    },
    {
      "cell_type": "code",
      "metadata": {
        "id": "NbL_Hn26F34d",
        "outputId": "5007a248-0288-4428-e681-9252a07b5f27"
      },
      "source": [
        "# You can also test with your own data\n",
        "hours = 9.25\n",
        "own_pred = reg.predict([[hours]])\n",
        "print(\"No of Hours = {}\".format(hours))\n",
        "print(\"Predicted Score = {}\".format(own_pred[0]))"
      ],
      "execution_count": null,
      "outputs": [
        {
          "output_type": "stream",
          "name": "stdout",
          "text": [
            "No of Hours = 9.25\n",
            "Predicted Score = 92.91505723477057\n"
          ]
        }
      ]
    },
    {
      "cell_type": "code",
      "metadata": {
        "id": "weVl7HmIF34e",
        "outputId": "df92d8ef-022b-4eac-9b63-3afbc994628b"
      },
      "source": [
        "from sklearn import metrics\n",
        "print('The mean absolute error: ', metrics.mean_absolute_error(y_test, y_pred))"
      ],
      "execution_count": null,
      "outputs": [
        {
          "output_type": "stream",
          "name": "stdout",
          "text": [
            "The mean absolute error:  4.18385989900298\n"
          ]
        }
      ]
    }
  ]
}
